{
 "cells": [
  {
   "cell_type": "markdown",
   "id": "1a114d00-c8cd-404b-a083-9ffa36650918",
   "metadata": {},
   "source": [
    "# Tour of F# - Part 1"
   ]
  },
  {
   "cell_type": "markdown",
   "id": "948c5233-a1b1-44e4-864b-2a7a2730f6a1",
   "metadata": {
    "tags": []
   },
   "source": [
    "## Namespaces & Modules"
   ]
  },
  {
   "cell_type": "markdown",
   "id": "41c3c2b7-81de-4e59-8a16-891413002d1d",
   "metadata": {},
   "source": [
    "#### What is a namespace?\n",
    "\n",
    "A namespace lets you organize code into areas of related functionality by enabling you to attach a name to a grouping of F# program elements. Namespaces are typically top-level elements in F# files.\n",
    "\n",
    "Namespaces cannot directly contain values and functions. Instead, values and functions must be included in modules, and modules are included in namespaces. Namespaces can contain types, modules."
   ]
  },
  {
   "cell_type": "code",
   "execution_count": null,
   "id": "417e4794-4047-43b1-9190-f315a0128281",
   "metadata": {},
   "outputs": [],
   "source": [
    "// this code will not run in interactive environment\n",
    "namespace Widgets\n",
    "\n",
    "type MyWidget1 =\n",
    "    member this.WidgetName = \"Widget1\"\n",
    "\n",
    "module WidgetsModule =\n",
    "    let widgetName = \"Widget2\""
   ]
  },
  {
   "cell_type": "markdown",
   "id": "2803a603-e65e-4f8f-8883-a7d47916b0f9",
   "metadata": {},
   "source": [
    "Note about differences betweeen interactive environment and compiled code. E.g. namespaces not supported in interactive environment."
   ]
  },
  {
   "cell_type": "markdown",
   "id": "e28cfa34-93d9-4d92-8100-e32cb2ab4928",
   "metadata": {},
   "source": [
    "#### What is a module?\n",
    "\n",
    "A module is a grouping of F# code, such as values, types, and function values, in an F# program. Grouping code in modules helps keep related code together and helps avoid name conflicts in your program."
   ]
  },
  {
   "cell_type": "code",
   "execution_count": null,
   "id": "531bbbc8-f223-49cb-8409-380ff2f26313",
   "metadata": {},
   "outputs": [],
   "source": [
    "// In the file multiplemodules.fs.\n",
    "// MyModule1\n",
    "module MyModule1 =\n",
    "    // Indent all program elements within modules that are declared with an equal sign.\n",
    "    let module1Value = 100\n",
    "\n",
    "    let module1Function x =\n",
    "        x + 10\n",
    "\n",
    "// MyModule2\n",
    "module MyModule2 =\n",
    "\n",
    "    let module2Value = 121\n",
    "\n",
    "    // Use a qualified name to access the function.\n",
    "    // from MyModule1.\n",
    "    let module2Function x =\n",
    "        x * (MyModule1.module1Function module2Value)\n",
    "        \n",
    "        \n",
    "MyModule1.module1Function 5"
   ]
  },
  {
   "cell_type": "markdown",
   "id": "3c30b8f6-cf58-46cb-93ff-31b5bb44b902",
   "metadata": {},
   "source": [
    "#### Top level vs local modules?"
   ]
  },
  {
   "cell_type": "code",
   "execution_count": null,
   "id": "8a531eae-5230-4bd4-8a6a-5182e500dd80",
   "metadata": {},
   "outputs": [],
   "source": [
    "// TODO code sample"
   ]
  },
  {
   "cell_type": "markdown",
   "id": "09f586db-3335-4c50-9c66-9b7b07de5e18",
   "metadata": {},
   "source": [
    "#### _open_-ing modules"
   ]
  },
  {
   "cell_type": "code",
   "execution_count": null,
   "id": "bf3673a7-5361-479b-b434-b621d7edb08e",
   "metadata": {},
   "outputs": [],
   "source": [
    "// TODO code sample"
   ]
  },
  {
   "cell_type": "markdown",
   "id": "512460cd-d499-451e-a9e4-82d277cd2e6c",
   "metadata": {},
   "source": [
    "#### Access control\n",
    "\n",
    "The access control specifiers _public_, _internal_, and _private_ can be applied to modules, types, methods, value definitions, functions, properties, and explicit fields.\n",
    "\n",
    "  * _public_ indicates that the entity can be accessed by all callers.\n",
    "  * _internal_ indicates that the entity can be accessed only from the same assembly.\n",
    "  * _private_ indicates that the entity can be accessed only from the enclosing type or module."
   ]
  },
  {
   "cell_type": "code",
   "execution_count": null,
   "id": "f1f2638c-4677-4ab0-85c9-e00611da6d96",
   "metadata": {},
   "outputs": [],
   "source": [
    "// TODO code sample"
   ]
  },
  {
   "cell_type": "markdown",
   "id": "16cb03bc-5ed3-45bc-8377-96f0c8e57d79",
   "metadata": {},
   "source": [
    "#### Entry point\n",
    "\n",
    "Implicit vs Explicit"
   ]
  },
  {
   "cell_type": "code",
   "execution_count": null,
   "id": "1da14708-87ef-4649-8a6b-fecd5daf0242",
   "metadata": {},
   "outputs": [],
   "source": [
    "[<EntryPoint>]\n",
    "let main args =\n",
    "    printfn \"Arguments passed to function : %A\" args\n",
    "    // Return 0. This indicates success.\n",
    "    0"
   ]
  },
  {
   "cell_type": "markdown",
   "id": "332f1cf5-8425-4fc9-8fdc-d498b8311334",
   "metadata": {
    "tags": []
   },
   "source": [
    "## Functions"
   ]
  },
  {
   "cell_type": "markdown",
   "id": "b52f2098-feb3-44c7-a815-1c68ee484b78",
   "metadata": {},
   "source": [
    "Functions are the fundamental unit of program execution in any programming language. As in other languages, an F# function has a name, can have parameters and take arguments, and has a body. F# also supports functional programming constructs such as treating functions as values, using unnamed functions in expressions, composition of functions to form new functions, curried functions, and the implicit definition of functions by way of the partial application of function arguments.\n",
    "\n",
    "You define functions by using the let keyword, or, if the function is recursive, the let rec keyword combination."
   ]
  },
  {
   "cell_type": "code",
   "execution_count": null,
   "id": "37c7820b-1974-415e-9fd9-45fa4bbb22ce",
   "metadata": {},
   "outputs": [],
   "source": [
    "// function f has argument x and function body is x + 1\n",
    "// x is inferred to be of type int and so f is inferred to return type int\n",
    "let f x = x + 1\n",
    "\n",
    "printfn \"%d\" (f 2)  // can also be written printfn $\"{f 2}\" using string interpolation notation\n",
    "printfn $\"{f 1000000}\""
   ]
  },
  {
   "cell_type": "code",
   "execution_count": null,
   "id": "600ca071-17c6-432c-8785-3848bcbd2590",
   "metadata": {},
   "outputs": [],
   "source": [
    "let rec factorial n =\n",
    "    if n = 0 then\n",
    "        1\n",
    "    else \n",
    "        n * factorial (n-1)\n",
    "        \n",
    "factorial 4"
   ]
  }
 ],
 "metadata": {
  "kernelspec": {
   "display_name": ".NET (F#)",
   "language": "F#",
   "name": ".net-fsharp"
  },
  "language_info": {
   "file_extension": ".fs",
   "mimetype": "text/x-fsharp",
   "name": "F#",
   "pygments_lexer": "fsharp",
   "version": "5.0"
  }
 },
 "nbformat": 4,
 "nbformat_minor": 5
}
